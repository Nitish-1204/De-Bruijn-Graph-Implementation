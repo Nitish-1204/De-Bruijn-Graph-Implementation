{
 "cells": [
  {
   "cell_type": "code",
   "execution_count": 1,
   "metadata": {},
   "outputs": [
    {
     "data": {
      "text/plain": [
       "pattern (generic function with 1 method)"
      ]
     },
     "execution_count": 1,
     "metadata": {},
     "output_type": "execute_result"
    }
   ],
   "source": [
    "#Function to find all the possible kmers from the string\n",
    "function pattern(String, k)\n",
    "    #Creating a list to handle kmers obtained\n",
    "    s = [];\n",
    "    #Pushing them into the list\n",
    "    for i in 1:length(String)-k+1\n",
    "        s = append!(s,[String[i:i+k-1]]);\n",
    "    end\n",
    "    #Returning the list\n",
    "    return s;\n",
    "end"
   ]
  },
  {
   "cell_type": "code",
   "execution_count": 2,
   "metadata": {},
   "outputs": [
    {
     "data": {
      "text/plain": [
       "lexico_order (generic function with 1 method)"
      ]
     },
     "execution_count": 2,
     "metadata": {},
     "output_type": "execute_result"
    }
   ],
   "source": [
    "#Function to find out the lexicographic ordering of the kmers\n",
    "function lexico_order(kmers)\n",
    "    #Creating a local variable sorted_kmer\n",
    "    sorted_kmer = kmers;\n",
    "    for i in 1:length(sorted_kmer)\n",
    "        for j in i:length(sorted_kmer)\n",
    "            #Alphabets Unicode values are increasing in order from A to Z.\n",
    "            #So a string will be arranged in alphabetical order in this fashion\n",
    "            if(cmp(sorted_kmer[i], sorted_kmer[j]) >= 0)\n",
    "                #Swapping takes place\n",
    "                swap = sorted_kmer[i];\n",
    "                sorted_kmer[i] = sorted_kmer[j]; \n",
    "                sorted_kmer[j] = swap;\n",
    "            end\n",
    "        end\n",
    "    end\n",
    "    #Returning the values obtained after sorting\n",
    "    return sorted_kmer;\n",
    "end"
   ]
  },
  {
   "cell_type": "code",
   "execution_count": 3,
   "metadata": {},
   "outputs": [
    {
     "data": {
      "text/plain": [
       "deBruijnKmers (generic function with 1 method)"
      ]
     },
     "execution_count": 3,
     "metadata": {},
     "output_type": "execute_result"
    }
   ],
   "source": [
    "using DataStructures\n",
    "#Function to find DeBrujin Nodes and with edges\n",
    "function deBruijnKmers(text)\n",
    "    #Creating a lists to handle prefix and suffix of kmers\n",
    "    prefix =[]\n",
    "    suffix =[]\n",
    "    #Creating a dictionary to join nodes with help of prefix and suffix\n",
    "    dictionary = Dict()\n",
    "    #Pushing prefix suffix k-1 kmers of the given kmer \n",
    "    #joining edges with help of prefix and suffix of k-1 mers of given kmers \n",
    "    for element in text\n",
    "        kmer = element[1:length(element)-1]\n",
    "        kmer2 = element[2:length(element)]\n",
    "        append!(prefix,[kmer])\n",
    "        append!(suffix,[kmer2]) \n",
    "        if length(kmer2) == length(prefix[1])\n",
    "            if haskey(dictionary, kmer)\n",
    "                append!(dictionary[kmer],[kmer2])\n",
    "            else\n",
    "                dictionary[kmer] = [kmer2]\n",
    "            end\n",
    "        end\n",
    "    end\n",
    "    #Getting total k-1 mers that are common in prefix and suffix list with help of sets\n",
    "    list_of_kminus1mers = suffix\n",
    "    set1 = Set(prefix)\n",
    "    set2 = Set(suffix)\n",
    "    st=setdiff(set1, set2)\n",
    "    st=string(st)\n",
    "    print(st)\n",
    "    if length(st)>10\n",
    "    append!(list_of_kminus1mers,[st[10:10+(k-1)-1]])\n",
    "    end\n",
    "    results = dictionary\n",
    "    return list_of_kminus1mers,results\n",
    "end"
   ]
  },
  {
   "cell_type": "code",
   "execution_count": 4,
   "metadata": {},
   "outputs": [
    {
     "data": {
      "text/plain": [
       "AdjacencyMatrix (generic function with 1 method)"
      ]
     },
     "execution_count": 4,
     "metadata": {},
     "output_type": "execute_result"
    }
   ],
   "source": [
    "function AdjacencyMatrix(ListOfNodes,Edges)\n",
    "    #Indexing Nodes to get Adjacency Matrix\n",
    "    Dict1 = Dict()\n",
    "    x = 1\n",
    "    list =[]\n",
    "    for i in 1:length(ListOfNodes)\n",
    "        if haskey(Dict1, ListOfNodes[i])\n",
    "           continue\n",
    "        else\n",
    "           Dict1[ListOfNodes[i]]=x\n",
    "           append!(list,[ListOfNodes[i]])\n",
    "           x = x+1\n",
    "        end\n",
    "    end\n",
    "    #Finding Adjacency Matrix and plotting the deBrujinGraph\n",
    "    l = length(Dict1)\n",
    "    AdjMat = zeros(Int64,(l,l))\n",
    "    Z = []\n",
    "    edges = []\n",
    "    for (i, value) in pairs(Edges)\n",
    "       append!(Z,[i])\n",
    "       x = i\n",
    "       for j in 1:length(value)\n",
    "           y = value[j]\n",
    "           append!(edges,[string(x,string(y[end]))])\n",
    "           AdjMat[Dict1[x], Dict1[y]]=1\n",
    "       end\n",
    "    end\n",
    "    return AdjMat,list,edges,Dict1\n",
    "    \n",
    "end"
   ]
  },
  {
   "cell_type": "code",
   "execution_count": 5,
   "metadata": {},
   "outputs": [
    {
     "data": {
      "text/plain": [
       "find_degree (generic function with 1 method)"
      ]
     },
     "execution_count": 5,
     "metadata": {},
     "output_type": "execute_result"
    }
   ],
   "source": [
    "using LinearAlgebra\n",
    "function find_degree(AdjMat)\n",
    "    #Retrieve size of matrix\n",
    "    s = size(AdjMat);\n",
    "    #Indegree of a node is sum of the elements present in node's column of the Adjacency Matrix\n",
    "    indegree = [sum(AdjMat[:,i]) for i in 1:s[2]];\n",
    "    #Outdegree of a node is sum of the elements present in node's row of the Adjacency Matrix\n",
    "    outdegree = [sum(AdjMat[i,:]) for i in 1:s[1]];\n",
    "    #Degree of node is sum of its indegree and outdegree\n",
    "    degree = indegree .+ outdegree;\n",
    "    #Degree Matrix is a diagonal matrix\n",
    "    degree_Mat = Diagonal(degree);\n",
    "    return indegree, outdegree, degree, degree_Mat;\n",
    "end"
   ]
  },
  {
   "cell_type": "code",
   "execution_count": 6,
   "metadata": {},
   "outputs": [
    {
     "name": "stdout",
     "output_type": "stream",
     "text": [
      "Kmers of the given Genome are \n",
      "Any[\"GGA\", \"GAC\", \"ACT\", \"CTC\", \"TCC\", \"CCT\", \"CTC\", \"TCG\", \"CGT\", \"GTG\", \"TGG\", \"GGA\", \"GAG\", \"AGG\", \"GGC\", \"GCC\", \"CCC\", \"CCC\", \"CCC\", \"CCG\", \"CGC\", \"GCC\", \"CCC\", \"CCT\", \"CTT\", \"TTT\", \"TTT\", \"TTT\", \"TTG\", \"TGC\", \"GCC\", \"CCG\", \"CGG\", \"GGG\", \"GGC\", \"GCT\", \"CTG\", \"TGC\"]"
     ]
    }
   ],
   "source": [
    "k = 3;\n",
    "kmers = pattern(\"GGACTCCTCGTGGAGGCCCCCGCCCTTTTTGCCGGGCTGC\",k)\n",
    "print(\"Kmers of the given Genome are \\n\", kmers)"
   ]
  },
  {
   "cell_type": "code",
   "execution_count": 7,
   "metadata": {},
   "outputs": [
    {
     "name": "stdout",
     "output_type": "stream",
     "text": [
      "Sorted KmerList: \n",
      "Any[\"ACT\", \"AGG\", \"CCC\", \"CCC\", \"CCC\", \"CCC\", \"CCG\", \"CCG\", \"CCT\", \"CCT\", \"CGC\", \"CGG\", \"CGT\", \"CTC\", \"CTC\", \"CTG\", \"CTT\", \"GAC\", \"GAG\", \"GCC\", \"GCC\", \"GCC\", \"GCT\", \"GGA\", \"GGA\", \"GGC\", \"GGC\", \"GGG\", \"GTG\", \"TCC\", \"TCG\", \"TGC\", \"TGC\", \"TGG\", \"TTG\", \"TTT\", \"TTT\", \"TTT\"]"
     ]
    }
   ],
   "source": [
    "LexicoOrderedKmers = lexico_order(kmers)\n",
    "print(\"Sorted KmerList: \\n\", LexicoOrderedKmers)"
   ]
  },
  {
   "cell_type": "code",
   "execution_count": 8,
   "metadata": {},
   "outputs": [
    {
     "name": "stdout",
     "output_type": "stream",
     "text": [
      "Set(Any[])\n",
      "List of Nodes in debrujinGraphs: \n",
      "Any[\"CT\", \"GG\", \"CC\", \"CC\", \"CC\", \"CC\", \"CG\", \"CG\", \"CT\", \"CT\", \"GC\", \"GG\", \"GT\", \"TC\", \"TC\", \"TG\", \"TT\", \"AC\", \"AG\", \"CC\", \"CC\", \"CC\", \"CT\", \"GA\", \"GA\", \"GC\", \"GC\", \"GG\", \"TG\", \"CC\", \"CG\", \"GC\", \"GC\", \"GG\", \"TG\", \"TT\", \"TT\", \"TT\"]\n",
      "\n",
      "Edges: \n",
      "Dict{Any,Any}(\"CC\" => [\"CC\", \"CC\", \"CC\", \"CC\", \"CG\", \"CG\", \"CT\", \"CT\"],\"GC\" => [\"CC\", \"CC\", \"CC\", \"CT\"],\"GG\" => [\"GA\", \"GA\", \"GC\", \"GC\", \"GG\"],\"CG\" => [\"GC\", \"GG\", \"GT\"],\"TG\" => [\"GC\", \"GC\", \"GG\"],\"GT\" => [\"TG\"],\"GA\" => [\"AC\", \"AG\"],\"TT\" => [\"TG\", \"TT\", \"TT\", \"TT\"],\"AC\" => [\"CT\"],\"CT\" => [\"TC\", \"TC\", \"TG\", \"TT\"],\"AG\" => [\"GG\"],\"TC\" => [\"CC\", \"CG\"])\n"
     ]
    }
   ],
   "source": [
    "ListOfNodes,Edges = deBruijnKmers(LexicoOrderedKmers)\n",
    "println(\"\\nList of Nodes in debrujinGraphs: \\n\",ListOfNodes)\n",
    "println(\"\\nEdges: \\n\", pairs(Edges))"
   ]
  },
  {
   "cell_type": "code",
   "execution_count": 9,
   "metadata": {},
   "outputs": [
    {
     "data": {
      "text/plain": [
       "Dict{Any,Any} with 12 entries:\n",
       "  \"CC\" => 3\n",
       "  \"GC\" => 5\n",
       "  \"GG\" => 2\n",
       "  \"CG\" => 4\n",
       "  \"TG\" => 8\n",
       "  \"GT\" => 6\n",
       "  \"GA\" => 12\n",
       "  \"TT\" => 9\n",
       "  \"AC\" => 10\n",
       "  \"CT\" => 1\n",
       "  \"AG\" => 11\n",
       "  \"TC\" => 7"
      ]
     },
     "execution_count": 9,
     "metadata": {},
     "output_type": "execute_result"
    }
   ],
   "source": [
    "AdjMat,List,edges,IndexingNodes = AdjacencyMatrix(ListOfNodes,Edges)\n",
    "IndexingNodes"
   ]
  },
  {
   "cell_type": "code",
   "execution_count": 10,
   "metadata": {},
   "outputs": [
    {
     "data": {
      "text/plain": [
       "12×12 Array{Int64,2}:\n",
       " 0  0  0  0  0  0  1  1  1  0  0  0\n",
       " 0  1  0  0  1  0  0  0  0  0  0  1\n",
       " 1  0  1  1  0  0  0  0  0  0  0  0\n",
       " 0  1  0  0  1  1  0  0  0  0  0  0\n",
       " 1  0  1  0  0  0  0  0  0  0  0  0\n",
       " 0  0  0  0  0  0  0  1  0  0  0  0\n",
       " 0  0  1  1  0  0  0  0  0  0  0  0\n",
       " 0  1  0  0  1  0  0  0  0  0  0  0\n",
       " 0  0  0  0  0  0  0  1  1  0  0  0\n",
       " 1  0  0  0  0  0  0  0  0  0  0  0\n",
       " 0  1  0  0  0  0  0  0  0  0  0  0\n",
       " 0  0  0  0  0  0  0  0  0  1  1  0"
      ]
     },
     "execution_count": 10,
     "metadata": {},
     "output_type": "execute_result"
    }
   ],
   "source": [
    "AdjMat"
   ]
  },
  {
   "cell_type": "code",
   "execution_count": 11,
   "metadata": {},
   "outputs": [
    {
     "name": "stderr",
     "output_type": "stream",
     "text": [
      "┌ Info: Precompiling Plots [91a5bcdd-55d7-5caf-9e0b-520d859cae80]\n",
      "└ @ Base loading.jl:1260\n",
      "ERROR: LoadError: LoadError: InitError: could not load library \"C:\\Users\\sriva\\.julia\\artifacts\\ff37fcc80050ffc25ef51f5fae04c0d02c55369d\\bin/libfdk-aac-1.dll\"\n",
      "The specified module could not be found. \n",
      "Stacktrace:\n",
      " [1] dlopen(::String, ::UInt32; throw_error::Bool) at D:\\buildbot\\worker\\package_win64\\build\\usr\\share\\julia\\stdlib\\v1.4\\Libdl\\src\\Libdl.jl:109\n",
      " [2] dlopen(::String, ::UInt32) at D:\\buildbot\\worker\\package_win64\\build\\usr\\share\\julia\\stdlib\\v1.4\\Libdl\\src\\Libdl.jl:109\n",
      " [3] macro expansion at C:\\Users\\sriva\\.julia\\packages\\JLLWrappers\\KuIwt\\src\\products\\library_generators.jl:61 [inlined]\n",
      " [4] __init__() at C:\\Users\\sriva\\.julia\\packages\\libfdk_aac_jll\\6yCaP\\src\\wrappers\\x86_64-w64-mingw32.jl:8\n",
      " [5] _include_from_serialized(::String, ::Array{Any,1}) at .\\loading.jl:697\n",
      " [6] _require_from_serialized(::String) at .\\loading.jl:748\n",
      " [7] _require(::Base.PkgId) at .\\loading.jl:1039\n",
      " [8] require(::Base.PkgId) at .\\loading.jl:927\n",
      " [9] require(::Module, ::Symbol) at .\\loading.jl:922\n",
      " [10] include(::Module, ::String) at .\\Base.jl:377\n",
      " [11] top-level scope at C:\\Users\\sriva\\.julia\\packages\\JLLWrappers\\KuIwt\\src\\toplevel_generators.jl:170\n",
      " [12] include(::Module, ::String) at .\\Base.jl:377\n",
      " [13] top-level scope at none:2\n",
      " [14] eval at .\\boot.jl:331 [inlined]\n",
      " [15] eval(::Expr) at .\\client.jl:449\n",
      " [16] top-level scope at .\\none:3\n",
      "during initialization of module libfdk_aac_jll\n",
      "in expression starting at C:\\Users\\sriva\\.julia\\packages\\FFMPEG_jll\\xCSqL\\src\\wrappers\\x86_64-w64-mingw32.jl:5\n",
      "in expression starting at C:\\Users\\sriva\\.julia\\packages\\FFMPEG_jll\\xCSqL\\src\\FFMPEG_jll.jl:8\n",
      "ERROR: LoadError: Failed to precompile FFMPEG_jll [b22a6f82-2f65-5046-a5b2-351ab43fb4e5] to C:\\Users\\sriva\\.julia\\compiled\\v1.4\\FFMPEG_jll\\uSD0T_POkQ1.ji.\n",
      "Stacktrace:\n",
      " [1] error(::String) at .\\error.jl:33\n",
      " [2] compilecache(::Base.PkgId, ::String) at .\\loading.jl:1272\n",
      " [3] _require(::Base.PkgId) at .\\loading.jl:1029\n",
      " [4] require(::Base.PkgId) at .\\loading.jl:927\n",
      " [5] require(::Module, ::Symbol) at .\\loading.jl:922\n",
      " [6] include(::Module, ::String) at .\\Base.jl:377\n",
      " [7] top-level scope at none:2\n",
      " [8] eval at .\\boot.jl:331 [inlined]\n",
      " [9] eval(::Expr) at .\\client.jl:449\n",
      " [10] top-level scope at .\\none:3\n",
      "in expression starting at C:\\Users\\sriva\\.julia\\packages\\FFMPEG\\aazvf\\src\\FFMPEG.jl:3\n",
      "ERROR: LoadError: Failed to precompile FFMPEG [c87230d0-a227-11e9-1b43-d7ebe4e7570a] to C:\\Users\\sriva\\.julia\\compiled\\v1.4\\FFMPEG\\TGvga_POkQ1.ji.\n",
      "Stacktrace:\n",
      " [1] error(::String) at .\\error.jl:33\n",
      " [2] compilecache(::Base.PkgId, ::String) at .\\loading.jl:1272\n",
      " [3] _require(::Base.PkgId) at .\\loading.jl:1029\n",
      " [4] require(::Base.PkgId) at .\\loading.jl:927\n",
      " [5] require(::Module, ::Symbol) at .\\loading.jl:922\n",
      " [6] include(::Module, ::String) at .\\Base.jl:377\n",
      " [7] top-level scope at none:2\n",
      " [8] eval at .\\boot.jl:331 [inlined]\n",
      " [9] eval(::Expr) at .\\client.jl:449\n",
      " [10] top-level scope at .\\none:3\n",
      "in expression starting at C:\\Users\\sriva\\.julia\\packages\\Plots\\uCh2y\\src\\Plots.jl:15\n"
     ]
    },
    {
     "ename": "ErrorException",
     "evalue": "Failed to precompile Plots [91a5bcdd-55d7-5caf-9e0b-520d859cae80] to C:\\Users\\sriva\\.julia\\compiled\\v1.4\\Plots\\ld3vC_POkQ1.ji.",
     "output_type": "error",
     "traceback": [
      "Failed to precompile Plots [91a5bcdd-55d7-5caf-9e0b-520d859cae80] to C:\\Users\\sriva\\.julia\\compiled\\v1.4\\Plots\\ld3vC_POkQ1.ji.",
      "",
      "Stacktrace:",
      " [1] error(::String) at .\\error.jl:33",
      " [2] compilecache(::Base.PkgId, ::String) at .\\loading.jl:1272",
      " [3] _require(::Base.PkgId) at .\\loading.jl:1029",
      " [4] require(::Base.PkgId) at .\\loading.jl:927",
      " [5] require(::Module, ::Symbol) at .\\loading.jl:922",
      " [6] top-level scope at In[11]:1"
     ]
    }
   ],
   "source": [
    "using GraphRecipes, Plots\n",
    "graphplot(AdjMat,names=List,arrow=arrow(:head, :closed, 1, 1),\n",
    "    nodeshape=:circle, nodesize=0.2, nodecolor=:red, curvature_scalar=0.05)"
   ]
  },
  {
   "cell_type": "code",
   "execution_count": 12,
   "metadata": {},
   "outputs": [
    {
     "name": "stdout",
     "output_type": "stream",
     "text": [
      "Any[\"CCC\", \"CCC\", \"CCC\", \"CCC\", \"CCG\", \"CCG\", \"CCT\", \"CCT\", \"GCC\", \"GCC\", \"GCC\", \"GCT\", \"GGA\", \"GGA\", \"GGC\", \"GGC\", \"GGG\", \"CGC\", \"CGG\", \"CGT\", \"TGC\", \"TGC\", \"TGG\", \"GTG\", \"GAC\", \"GAG\", \"TTG\", \"TTT\", \"TTT\", \"TTT\", \"ACT\", \"CTC\", \"CTC\", \"CTG\", \"CTT\", \"AGG\", \"TCC\", \"TCG\"]"
     ]
    }
   ],
   "source": [
    "print(edges)"
   ]
  },
  {
   "cell_type": "code",
   "execution_count": 13,
   "metadata": {},
   "outputs": [],
   "source": [
    "Indegree, Outdegree, Degree, Degree_Mat = find_degree(AdjMat);"
   ]
  },
  {
   "cell_type": "code",
   "execution_count": 14,
   "metadata": {},
   "outputs": [
    {
     "name": "stdout",
     "output_type": "stream",
     "text": [
      "[3, 4, 3, 2, 3, 1, 1, 3, 2, 1, 1, 1]\n"
     ]
    }
   ],
   "source": [
    "println(Indegree)"
   ]
  },
  {
   "cell_type": "code",
   "execution_count": 15,
   "metadata": {},
   "outputs": [
    {
     "name": "stdout",
     "output_type": "stream",
     "text": [
      "[3, 3, 3, 3, 2, 1, 2, 2, 2, 1, 1, 2]\n"
     ]
    }
   ],
   "source": [
    "println(Outdegree)"
   ]
  },
  {
   "cell_type": "code",
   "execution_count": 16,
   "metadata": {},
   "outputs": [
    {
     "data": {
      "text/plain": [
       "12×12 Diagonal{Int64,Array{Int64,1}}:\n",
       " 6  ⋅  ⋅  ⋅  ⋅  ⋅  ⋅  ⋅  ⋅  ⋅  ⋅  ⋅\n",
       " ⋅  7  ⋅  ⋅  ⋅  ⋅  ⋅  ⋅  ⋅  ⋅  ⋅  ⋅\n",
       " ⋅  ⋅  6  ⋅  ⋅  ⋅  ⋅  ⋅  ⋅  ⋅  ⋅  ⋅\n",
       " ⋅  ⋅  ⋅  5  ⋅  ⋅  ⋅  ⋅  ⋅  ⋅  ⋅  ⋅\n",
       " ⋅  ⋅  ⋅  ⋅  5  ⋅  ⋅  ⋅  ⋅  ⋅  ⋅  ⋅\n",
       " ⋅  ⋅  ⋅  ⋅  ⋅  2  ⋅  ⋅  ⋅  ⋅  ⋅  ⋅\n",
       " ⋅  ⋅  ⋅  ⋅  ⋅  ⋅  3  ⋅  ⋅  ⋅  ⋅  ⋅\n",
       " ⋅  ⋅  ⋅  ⋅  ⋅  ⋅  ⋅  5  ⋅  ⋅  ⋅  ⋅\n",
       " ⋅  ⋅  ⋅  ⋅  ⋅  ⋅  ⋅  ⋅  4  ⋅  ⋅  ⋅\n",
       " ⋅  ⋅  ⋅  ⋅  ⋅  ⋅  ⋅  ⋅  ⋅  2  ⋅  ⋅\n",
       " ⋅  ⋅  ⋅  ⋅  ⋅  ⋅  ⋅  ⋅  ⋅  ⋅  2  ⋅\n",
       " ⋅  ⋅  ⋅  ⋅  ⋅  ⋅  ⋅  ⋅  ⋅  ⋅  ⋅  3"
      ]
     },
     "execution_count": 16,
     "metadata": {},
     "output_type": "execute_result"
    }
   ],
   "source": [
    "Degree_Mat"
   ]
  },
  {
   "cell_type": "code",
   "execution_count": null,
   "metadata": {},
   "outputs": [],
   "source": []
  }
 ],
 "metadata": {
  "kernelspec": {
   "display_name": "Julia 1.4.2",
   "language": "julia",
   "name": "julia-1.4"
  },
  "language_info": {
   "file_extension": ".jl",
   "mimetype": "application/julia",
   "name": "julia",
   "version": "1.4.2"
  }
 },
 "nbformat": 4,
 "nbformat_minor": 2
}
