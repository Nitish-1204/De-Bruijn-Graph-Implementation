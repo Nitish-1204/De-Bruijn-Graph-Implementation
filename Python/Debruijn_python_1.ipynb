{
 "cells": [
  {
   "cell_type": "code",
   "execution_count": 1,
   "metadata": {},
   "outputs": [],
   "source": [
    "# importing required packages\n",
    "import networkx as nx \n",
    "import matplotlib.cbook\n",
    "from collections import defaultdict\n",
    "import numpy as np"
   ]
  },
  {
   "cell_type": "code",
   "execution_count": 2,
   "metadata": {},
   "outputs": [],
   "source": [
    "#Defining class to create the graph\n",
    "class Graph:\n",
    "    #Constructor used to initialise an object\n",
    "    def __init__(self, vlist = []):\n",
    "        self.index = {v:i for i,v in enumerate(vlist)}    # looks up index given name\n",
    "        self.vertex = {i:v for i,v in enumerate(vlist)}   # looks up name given index\n",
    "        self.edge = []\n",
    "        self.edgelabel = []\n",
    "    #addEdge function to add the edges\n",
    "    def addEdge(self, vsrc, vdst, label='', repeats=True):\n",
    "        e = (self.index[vsrc], self.index[vdst])\n",
    "        if (repeats) or (e not in self.edge):\n",
    "            self.edge.append(e)\n",
    "            self.edgelabel.append(label)\n",
    "    #addVertex function to add the vertices\n",
    "    def addVertex(self, label):\n",
    "        index = len(self.index)\n",
    "        self.index[label] = index\n",
    "        self.vertex[index] = label \n",
    "    #Function to find degrees of a node\n",
    "    def degrees(self):\n",
    "        inDegree = {}\n",
    "        outDegree = {}\n",
    "        for src, dst in self.edge:\n",
    "            outDegree[src] = outDegree.get(src, 0) + 1\n",
    "            inDegree[dst] = inDegree.get(dst, 0) + 1\n",
    "        return inDegree, outDegree\n",
    "    #verifyAndGetStart used to obtain the starting kmer node\n",
    "    def verifyAndGetStart(self):\n",
    "        inDegree, outDegree = self.degrees()\n",
    "        start, end = 0, 0\n",
    "        # node 0 will be the starting node is a Euler cycle is found\n",
    "        for vert in self.vertex:\n",
    "            ins = inDegree.get(vert,0)\n",
    "            outs = outDegree.get(vert,0)\n",
    "            if (ins == outs):\n",
    "                continue\n",
    "            elif (ins - outs == 1):\n",
    "                end = vert\n",
    "            elif (outs - ins == 1):\n",
    "                start = vert\n",
    "            else:\n",
    "                start, end = -1, -1\n",
    "                break\n",
    "        if (start >= 0) and (end >= 0):\n",
    "            return start\n",
    "        else:\n",
    "            return -1\n",
    "    \n",
    "    #Function to find the Eulerian Path\n",
    "    def eulerianPath(self):\n",
    "        graph = [(src,dst) for src,dst in self.edge]\n",
    "        currentVertex = self.verifyAndGetStart()\n",
    "        path = [currentVertex]\n",
    "        # \"next\" is the list index where vertices get inserted into our tour\n",
    "        # it starts at the end (i.e. same as appending), but later \"side-trips\" will insert in the middle\n",
    "        next = 1\n",
    "        while (len(graph) > 0):                   # when all edges are used, len(graph) == 0\n",
    "            # follows a path until it ends\n",
    "            for edge in graph:\n",
    "                if (edge[0] == currentVertex):\n",
    "                    currentVertex = edge[1]\n",
    "                    graph.remove(edge)\n",
    "                    path.insert(next, currentVertex)  # inserts vertex in path\n",
    "                    next += 1\n",
    "                    break\n",
    "            else:\n",
    "                # Look for side-trips along the current path\n",
    "                for edge in graph:\n",
    "                    try:\n",
    "                        # insert our side-trip after the \"u\" vertex that is starts from\n",
    "                        next = path.index(edge[0]) + 1\n",
    "                        currentVertex = edge[0]\n",
    "                        break\n",
    "                    except ValueError:\n",
    "                        continue\n",
    "                else:\n",
    "                    print(\"There is no path!\")\n",
    "                    return False\n",
    "        return path\n",
    "    #Function to find the Euler Edges from the given edges\n",
    "    def eulerEdges(self, starting, path):\n",
    "        edgeId = {}\n",
    "        for i in range(len(self.edge)):\n",
    "            edgeId[self.edge[i]] = edgeId.get(self.edge[i], []) + [i]\n",
    "        edgeList = [self.vertex[starting]]\n",
    "        for i in range(len(path)-1):\n",
    "            edgeList.append(self.edgelabel[edgeId[path[i],path[i+1]].pop()])\n",
    "        return edgeList           "
   ]
  },
  {
   "cell_type": "code",
   "execution_count": 3,
   "metadata": {},
   "outputs": [],
   "source": [
    "#Function used to retrieve the kmers\n",
    "\n",
    "def get_kmers(seq,k):\n",
    "    kmerlist = []\n",
    "    for i in range(len(seq)-k+1):\n",
    "        kmerlist.append(seq[i:i+k])\n",
    "    return kmerlist"
   ]
  },
  {
   "cell_type": "code",
   "execution_count": 5,
   "metadata": {},
   "outputs": [
    {
     "name": "stdout",
     "output_type": "stream",
     "text": [
      "Enter the sequence here --> TGAGATAGTCGACCTGACTAATC\n"
     ]
    }
   ],
   "source": [
    "seq = input(\"Enter the sequence here --> \")"
   ]
  },
  {
   "cell_type": "code",
   "execution_count": 6,
   "metadata": {},
   "outputs": [
    {
     "name": "stdout",
     "output_type": "stream",
     "text": [
      "Enter the value of k --> 3\n"
     ]
    }
   ],
   "source": [
    "k =int(input(\"Enter the value of k --> \"))\n",
    "kmers = get_kmers(seq, k)"
   ]
  },
  {
   "cell_type": "code",
   "execution_count": 22,
   "metadata": {},
   "outputs": [
    {
     "name": "stdout",
     "output_type": "stream",
     "text": [
      "The kmers are:\n"
     ]
    },
    {
     "data": {
      "text/plain": [
       "['AAT',\n",
       " 'ACC',\n",
       " 'ACT',\n",
       " 'AGA',\n",
       " 'AGT',\n",
       " 'ATA',\n",
       " 'ATC',\n",
       " 'CCT',\n",
       " 'CGA',\n",
       " 'CTA',\n",
       " 'CTG',\n",
       " 'GAC',\n",
       " 'GAC',\n",
       " 'GAG',\n",
       " 'GAT',\n",
       " 'GTC',\n",
       " 'TAA',\n",
       " 'TAG',\n",
       " 'TCG',\n",
       " 'TGA',\n",
       " 'TGA']"
      ]
     },
     "execution_count": 22,
     "metadata": {},
     "output_type": "execute_result"
    }
   ],
   "source": [
    "print(\"The kmers are:\")\n",
    "kmers"
   ]
  },
  {
   "cell_type": "code",
   "execution_count": 9,
   "metadata": {},
   "outputs": [
    {
     "data": {
      "image/png": "[encoded data removed]",
      "text/plain": [
       "<Figure size 432x288 with 1 Axes>"
      ]
     },
     "metadata": {},
     "output_type": "display_data"
    }
   ],
   "source": [
    "debrujn_graph =  nx.DiGraph()\n",
    "for i in range(len(kmers)-1):\n",
    "    debrujn_graph.add_edge(kmers[i], kmers[i+1])\n",
    "#Drawing the directed graph\n",
    "nx.draw_shell(debrujn_graph, with_labels = True,node_size = 800)"
   ]
  },
  {
   "cell_type": "code",
   "execution_count": 10,
   "metadata": {},
   "outputs": [],
   "source": [
    "g = Graph()\n",
    "Vertex = list(set(kmers))\n",
    "for val in Vertex:\n",
    "    g.addVertex(val)\n",
    "for i in range(len(kmers) - 1):\n",
    "    g.addEdge(kmers[i], kmers[i+1], kmers[i+1])"
   ]
  },
  {
   "cell_type": "code",
   "execution_count": 11,
   "metadata": {},
   "outputs": [
    {
     "name": "stdout",
     "output_type": "stream",
     "text": [
      "[4, 15, 14, 3, 18, 12, 2, 8, 10, 13, 6, 5, 7, 16, 4, 6, 11, 9, 0, 1, 17]\n"
     ]
    }
   ],
   "source": [
    "path = g.eulerianPath()\n",
    "print(path)"
   ]
  },
  {
   "cell_type": "code",
   "execution_count": 23,
   "metadata": {},
   "outputs": [
    {
     "name": "stdout",
     "output_type": "stream",
     "text": [
      "The lexicographic order of the kmers list is:\n"
     ]
    },
    {
     "data": {
      "text/plain": [
       "['AAT',\n",
       " 'ACC',\n",
       " 'ACT',\n",
       " 'AGA',\n",
       " 'AGT',\n",
       " 'ATA',\n",
       " 'ATC',\n",
       " 'CCT',\n",
       " 'CGA',\n",
       " 'CTA',\n",
       " 'CTG',\n",
       " 'GAC',\n",
       " 'GAC',\n",
       " 'GAG',\n",
       " 'GAT',\n",
       " 'GTC',\n",
       " 'TAA',\n",
       " 'TAG',\n",
       " 'TCG',\n",
       " 'TGA',\n",
       " 'TGA']"
      ]
     },
     "execution_count": 23,
     "metadata": {},
     "output_type": "execute_result"
    }
   ],
   "source": [
    "print(\"The lexicographic order of the kmers list is:\")\n",
    "kmers.sort()\n",
    "kmers"
   ]
  },
  {
   "cell_type": "code",
   "execution_count": 28,
   "metadata": {},
   "outputs": [
    {
     "name": "stdout",
     "output_type": "stream",
     "text": [
      "The outdegree of each kmer node is: "
     ]
    },
    {
     "data": {
      "text/plain": [
       "{4: 2,\n",
       " 15: 1,\n",
       " 14: 1,\n",
       " 3: 1,\n",
       " 18: 1,\n",
       " 12: 1,\n",
       " 2: 1,\n",
       " 8: 1,\n",
       " 10: 1,\n",
       " 13: 1,\n",
       " 6: 2,\n",
       " 5: 1,\n",
       " 7: 1,\n",
       " 16: 1,\n",
       " 11: 1,\n",
       " 9: 1,\n",
       " 0: 1,\n",
       " 1: 1}"
      ]
     },
     "execution_count": 28,
     "metadata": {},
     "output_type": "execute_result"
    }
   ],
   "source": [
    "#Obtaining the indegree and outdegree of the nodes\n",
    "indegree, outdegree = g.degrees()\n",
    "\n",
    "print(\"The outdegree of each kmer node is:\", end = \" \")\n",
    "outdegree"
   ]
  },
  {
   "cell_type": "code",
   "execution_count": 14,
   "metadata": {},
   "outputs": [
    {
     "name": "stdout",
     "output_type": "stream",
     "text": [
      "The starting node index is: 4\n"
     ]
    }
   ],
   "source": [
    "#Obtaining the starting index\n",
    "start_index = g.verifyAndGetStart()\n",
    "print(\"The starting node index is:\", end = \" \")\n",
    "print(start_index)"
   ]
  },
  {
   "cell_type": "code",
   "execution_count": 15,
   "metadata": {},
   "outputs": [
    {
     "name": "stdout",
     "output_type": "stream",
     "text": [
      "Printing the vertices of the graph:\n"
     ]
    },
    {
     "data": {
      "text/plain": [
       "{0: 'TAA',\n",
       " 1: 'AAT',\n",
       " 2: 'AGT',\n",
       " 3: 'GAT',\n",
       " 4: 'TGA',\n",
       " 5: 'ACC',\n",
       " 6: 'GAC',\n",
       " 7: 'CCT',\n",
       " 8: 'GTC',\n",
       " 9: 'CTA',\n",
       " 10: 'TCG',\n",
       " 11: 'ACT',\n",
       " 12: 'TAG',\n",
       " 13: 'CGA',\n",
       " 14: 'AGA',\n",
       " 15: 'GAG',\n",
       " 16: 'CTG',\n",
       " 17: 'ATC',\n",
       " 18: 'ATA'}"
      ]
     },
     "execution_count": 15,
     "metadata": {},
     "output_type": "execute_result"
    }
   ],
   "source": [
    "print(\"Printing the vertices of the graph:\")\n",
    "g.vertex"
   ]
  },
  {
   "cell_type": "code",
   "execution_count": 16,
   "metadata": {},
   "outputs": [
    {
     "data": {
      "text/plain": [
       "['TGA',\n",
       " 'GAG',\n",
       " 'AGA',\n",
       " 'GAT',\n",
       " 'ATA',\n",
       " 'TAG',\n",
       " 'AGT',\n",
       " 'GTC',\n",
       " 'TCG',\n",
       " 'CGA',\n",
       " 'GAC',\n",
       " 'ACC',\n",
       " 'CCT',\n",
       " 'CTG',\n",
       " 'TGA',\n",
       " 'GAC',\n",
       " 'ACT',\n",
       " 'CTA',\n",
       " 'TAA',\n",
       " 'AAT',\n",
       " 'ATC']"
      ]
     },
     "execution_count": 16,
     "metadata": {},
     "output_type": "execute_result"
    }
   ],
   "source": [
    "#Printing the Euler Edges\n",
    "Euler_edge = g.eulerEdges(start_index, path)\n",
    "Euler_edge"
   ]
  },
  {
   "cell_type": "code",
   "execution_count": 17,
   "metadata": {},
   "outputs": [
    {
     "name": "stdout",
     "output_type": "stream",
     "text": [
      "TGAGATAGTCGACCTGACTAATC\n"
     ]
    }
   ],
   "source": [
    "#Reconstruction from Euler Path\n",
    "recons_seq = Euler_edge[0]\n",
    "for i in range (1, len(Euler_edge)):\n",
    "        recons_seq = recons_seq + Euler_edge[i][-1]\n",
    "#Printing the sequence obtained from the Eulerian Path from De bruijn Graph\n",
    "print(recons_seq)"
   ]
  },
  {
   "cell_type": "code",
   "execution_count": 18,
   "metadata": {},
   "outputs": [
    {
     "name": "stdout",
     "output_type": "stream",
     "text": [
      "The reconstructed string is same as original sequence\n"
     ]
    }
   ],
   "source": [
    "#To check whether reconstructed string is the original string\n",
    "if(recons_seq == seq):\n",
    "    print(\"The reconstructed string is same as original sequence\")\n",
    "else:\n",
    "    print(\"The reconstructed string is not same as original sequence\")"
   ]
  },
  {
   "cell_type": "code",
   "execution_count": 19,
   "metadata": {},
   "outputs": [
    {
     "data": {
      "text/plain": [
       "[(4, 15),\n",
       " (15, 14),\n",
       " (14, 3),\n",
       " (3, 18),\n",
       " (18, 12),\n",
       " (12, 2),\n",
       " (2, 8),\n",
       " (8, 10),\n",
       " (10, 13),\n",
       " (13, 6),\n",
       " (6, 5),\n",
       " (5, 7),\n",
       " (7, 16),\n",
       " (16, 4),\n",
       " (4, 6),\n",
       " (6, 11),\n",
       " (11, 9),\n",
       " (9, 0),\n",
       " (0, 1),\n",
       " (1, 17)]"
      ]
     },
     "execution_count": 19,
     "metadata": {},
     "output_type": "execute_result"
    }
   ],
   "source": [
    "#Printing the edges in indices representation\n",
    "g.edge"
   ]
  },
  {
   "cell_type": "code",
   "execution_count": 20,
   "metadata": {},
   "outputs": [
    {
     "data": {
      "text/plain": [
       "['GAG',\n",
       " 'AGA',\n",
       " 'GAT',\n",
       " 'ATA',\n",
       " 'TAG',\n",
       " 'AGT',\n",
       " 'GTC',\n",
       " 'TCG',\n",
       " 'CGA',\n",
       " 'GAC',\n",
       " 'ACC',\n",
       " 'CCT',\n",
       " 'CTG',\n",
       " 'TGA',\n",
       " 'GAC',\n",
       " 'ACT',\n",
       " 'CTA',\n",
       " 'TAA',\n",
       " 'AAT',\n",
       " 'ATC']"
      ]
     },
     "execution_count": 20,
     "metadata": {},
     "output_type": "execute_result"
    }
   ],
   "source": [
    "#The edge labels stored\n",
    "g.edgelabel"
   ]
  },
  {
   "cell_type": "code",
   "execution_count": 21,
   "metadata": {},
   "outputs": [
    {
     "data": {
      "image/png": "[encoded data removed]",
      "text/plain": [
       "<Figure size 432x288 with 1 Axes>"
      ]
     },
     "metadata": {},
     "output_type": "display_data"
    }
   ],
   "source": [
    "#Creating a directed Graph from Euler path\n",
    "dgraph = nx.DiGraph()\n",
    "for i in range(len(path)-1):\n",
    "    dgraph.add_edge(g.vertex[path[i]], g.vertex[path[i+1]])\n",
    "#Drawing the directed graph\n",
    "nx.draw_shell(dgraph,with_labels = True,node_size=800)"
   ]
  },
  {
   "cell_type": "code",
   "execution_count": null,
   "metadata": {},
   "outputs": [],
   "source": []
  }
 ],
 "metadata": {
  "kernelspec": {
   "display_name": "Python 3",
   "language": "python",
   "name": "python3"
  },
  "language_info": {
   "codemirror_mode": {
    "name": "ipython",
    "version": 3
   },
   "file_extension": ".py",
   "mimetype": "text/x-python",
   "name": "python",
   "nbconvert_exporter": "python",
   "pygments_lexer": "ipython3",
   "version": "3.7.4"
  }
 },
 "nbformat": 4,
 "nbformat_minor": 2
}
